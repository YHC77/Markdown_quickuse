{
 "cells": [
  {
   "cell_type": "markdown",
   "id": "f9ab8ec7",
   "metadata": {},
   "source": [
    "# Markdown速用笔记"
   ]
  },
  {
   "cell_type": "markdown",
   "id": "0b9146e0",
   "metadata": {},
   "source": [
    "## 1 Markdown定义"
   ]
  },
  {
   "cell_type": "markdown",
   "id": "e5869df3",
   "metadata": {},
   "source": [
    "Markdown≈html的子集，轻量级的标记语言，Markdown编辑器将文件解析html格式，供Web浏览器中查看"
   ]
  },
  {
   "cell_type": "markdown",
   "id": "f53a5e12",
   "metadata": {},
   "source": [
    "优点：简约、功能强、可迁移"
   ]
  },
  {
   "cell_type": "markdown",
   "id": "f2a8b9ca",
   "metadata": {},
   "source": [
    "## 2 语法"
   ]
  },
  {
   "cell_type": "markdown",
   "id": "cb8f6e4f",
   "metadata": {},
   "source": [
    "### 2.1标题"
   ]
  },
  {
   "cell_type": "markdown",
   "id": "2a5ecfa3",
   "metadata": {},
   "source": [
    "#+空格+标题，#数对应1-6级标题，如下\n",
    "\n"
   ]
  },
  {
   "cell_type": "markdown",
   "id": "1ded3eb3",
   "metadata": {},
   "source": [
    "`#### eg：一个四级标题`\n",
    "#### eg：一个四级标题"
   ]
  },
  {
   "attachments": {},
   "cell_type": "markdown",
   "id": "0d9c2375",
   "metadata": {},
   "source": [
    "### 2.2文本样式"
   ]
  },
  {
   "cell_type": "markdown",
   "id": "fef513d1",
   "metadata": {},
   "source": [
    "1. 斜体：`*斜体*`，或 `_斜体_` -----》   *斜体* ,或 _斜体_"
   ]
  },
  {
   "cell_type": "markdown",
   "id": "b250503a",
   "metadata": {},
   "source": [
    "2. 粗体：`**粗体**`，或 `__粗体__` -----》      **粗体**,或 __粗体__"
   ]
  },
  {
   "cell_type": "markdown",
   "id": "e720c731",
   "metadata": {},
   "source": [
    "3. 删除线： `~~删除~~` ----》 ~~删除~~"
   ]
  },
  {
   "cell_type": "markdown",
   "id": "ff8b58d4",
   "metadata": {},
   "source": [
    "4. 代码：\\`代码\\` ----》  `代码`， 要在文本中显示 \\` 反引号，可以使用反斜杠进行转义,\\加在 \\`之前  \n",
    "\n",
    "5. 代码块：\n",
    "\\`\\`\\`代码语言 <br>\n",
    "coding <br>\n",
    "\\`\\`\\` \n",
    "```python  \n",
    "print('hello word')  \n",
    "```  \n",
    "这里按python语法高亮显示"
   ]
  },
  {
   "cell_type": "markdown",
   "id": "752fe553",
   "metadata": {},
   "source": [
    "## 3 列表\n",
    "### 3.1 无序列表\n",
    "- 项目1<----`- 项目1` \n",
    "- 项目2<----`- 项目2`\n",
    "### 3.2有序列表\n",
    "1. 项目1 <----`1. 项目1`\n",
    "2. 项目2 <----`2. 项目2`"
   ]
  },
  {
   "cell_type": "markdown",
   "id": "664b5944",
   "metadata": {},
   "source": [
    "## 4 链接\n",
    "### 4.1行内链接\n",
    "`[链接名字](URL)`,eg: [谷歌](https://www.google.com/?hl=zh_CN)\n",
    "### 4.2引用链接\n",
    "这是一个案例，使用[谷歌][1]和[百度][2]为例子,`[1]: https://www.google.com/`作为文末定义需要回车空出一行\n",
    "\n",
    "[1]:https://www.google.com/\n",
    "[2]:https://www.baidu.com/\n"
   ]
  },
  {
   "cell_type": "markdown",
   "id": "b2bbc7af",
   "metadata": {},
   "source": [
    "## 5 图片\n",
    "![谷歌的logo（如果图片无法正常显示则显示这个文本）](https://www.google.com/images/branding/googlelogo/1x/googlelogo_color_272x92dp.png)\n",
    "`![谷歌的logo（如果图片无法正常显示则显示这个文本）](图片URL)`\n"
   ]
  },
  {
   "cell_type": "markdown",
   "id": "deb16eb3",
   "metadata": {},
   "source": [
    "## 6 格式与引用\n",
    "### 6.1 换行\n",
    "1. `<br>`换行  \n",
    "2. 两个空格+回车  \n",
    "### 6.2 分割线\n",
    "`***`或`---`或`___`,三个符号相同即可，无论哪个符号，渲染结果都同如下\n",
    "\n",
    "---  \n",
    "\n",
    "### 6.3 引用\n",
    "`>这是引用的文本,需要换行才生效。`---->>这是引用的文本,需要换行才生效。\n",
    "> 这是引用的文本，需要换行才生效。"
   ]
  },
  {
   "cell_type": "markdown",
   "id": "9cb35303",
   "metadata": {},
   "source": [
    "## 7 表格\n",
    "|列1|列2|\n",
    "|-|-|\n",
    "| 单元格1 | 单元格2 |\n",
    "| 单元格3 | 单元格4 |\n",
    "\n"
   ]
  },
  {
   "cell_type": "markdown",
   "id": "b11d183d",
   "metadata": {},
   "source": [
    "## 8 一些图标\n",
    "\n",
    "1. - [x] 已完成任务\n",
    "1. - [ ] 未完成任务\n"
   ]
  },
  {
   "cell_type": "markdown",
   "id": "e14a18f7",
   "metadata": {},
   "source": []
  }
 ],
 "metadata": {
  "kernelspec": {
   "display_name": "Python 3 (ipykernel)",
   "language": "python",
   "name": "python3"
  },
  "language_info": {
   "codemirror_mode": {
    "name": "ipython",
    "version": 3
   },
   "file_extension": ".py",
   "mimetype": "text/x-python",
   "name": "python",
   "nbconvert_exporter": "python",
   "pygments_lexer": "ipython3",
   "version": "3.10.9"
  }
 },
 "nbformat": 4,
 "nbformat_minor": 5
}
